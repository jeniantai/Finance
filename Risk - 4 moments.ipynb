{
 "cells": [
  {
   "cell_type": "markdown",
   "metadata": {},
   "source": [
    "# Risk Management: Calculate The Four Moments"
   ]
  },
  {
   "cell_type": "markdown",
   "metadata": {},
   "source": [
    "### import stock data"
   ]
  },
  {
   "cell_type": "code",
   "execution_count": 5,
   "metadata": {},
   "outputs": [
    {
     "data": {
      "text/html": [
       "<div>\n",
       "<style scoped>\n",
       "    .dataframe tbody tr th:only-of-type {\n",
       "        vertical-align: middle;\n",
       "    }\n",
       "\n",
       "    .dataframe tbody tr th {\n",
       "        vertical-align: top;\n",
       "    }\n",
       "\n",
       "    .dataframe thead th {\n",
       "        text-align: right;\n",
       "    }\n",
       "</style>\n",
       "<table border=\"1\" class=\"dataframe\">\n",
       "  <thead>\n",
       "    <tr style=\"text-align: right;\">\n",
       "      <th></th>\n",
       "      <th>Date</th>\n",
       "      <th>Open</th>\n",
       "      <th>High</th>\n",
       "      <th>Low</th>\n",
       "      <th>Close</th>\n",
       "      <th>Volume</th>\n",
       "      <th>Adjusted</th>\n",
       "    </tr>\n",
       "  </thead>\n",
       "  <tbody>\n",
       "    <tr>\n",
       "      <th>0</th>\n",
       "      <td>2000-01-03</td>\n",
       "      <td>88.777</td>\n",
       "      <td>89.722</td>\n",
       "      <td>84.712</td>\n",
       "      <td>58.28125</td>\n",
       "      <td>53228400</td>\n",
       "      <td>38.527809</td>\n",
       "    </tr>\n",
       "    <tr>\n",
       "      <th>1</th>\n",
       "      <td>2000-01-04</td>\n",
       "      <td>85.893</td>\n",
       "      <td>88.588</td>\n",
       "      <td>84.901</td>\n",
       "      <td>56.31250</td>\n",
       "      <td>54119000</td>\n",
       "      <td>37.226345</td>\n",
       "    </tr>\n",
       "    <tr>\n",
       "      <th>2</th>\n",
       "      <td>2000-01-05</td>\n",
       "      <td>84.050</td>\n",
       "      <td>88.021</td>\n",
       "      <td>82.726</td>\n",
       "      <td>56.90625</td>\n",
       "      <td>64059600</td>\n",
       "      <td>37.618851</td>\n",
       "    </tr>\n",
       "    <tr>\n",
       "      <th>3</th>\n",
       "      <td>2000-01-06</td>\n",
       "      <td>84.853</td>\n",
       "      <td>86.130</td>\n",
       "      <td>81.970</td>\n",
       "      <td>55.00000</td>\n",
       "      <td>54976600</td>\n",
       "      <td>36.358688</td>\n",
       "    </tr>\n",
       "    <tr>\n",
       "      <th>4</th>\n",
       "      <td>2000-01-07</td>\n",
       "      <td>82.159</td>\n",
       "      <td>84.901</td>\n",
       "      <td>81.166</td>\n",
       "      <td>55.71875</td>\n",
       "      <td>62013600</td>\n",
       "      <td>36.833828</td>\n",
       "    </tr>\n",
       "  </tbody>\n",
       "</table>\n",
       "</div>"
      ],
      "text/plain": [
       "        Date    Open    High     Low     Close    Volume   Adjusted\n",
       "0 2000-01-03  88.777  89.722  84.712  58.28125  53228400  38.527809\n",
       "1 2000-01-04  85.893  88.588  84.901  56.31250  54119000  37.226345\n",
       "2 2000-01-05  84.050  88.021  82.726  56.90625  64059600  37.618851\n",
       "3 2000-01-06  84.853  86.130  81.970  55.00000  54976600  36.358688\n",
       "4 2000-01-07  82.159  84.901  81.166  55.71875  62013600  36.833828"
      ]
     },
     "execution_count": 5,
     "metadata": {},
     "output_type": "execute_result"
    }
   ],
   "source": [
    "import pandas as pd\n",
    "import numpy as np\n",
    "import matplotlib.pyplot as plt\n",
    "\n",
    "StockPrices = pd.read_csv(\"StockPrices.csv\", parse_dates=[\"Date\"])\n",
    "StockPrices = StockPrices.sort_values(by=\"Date\")\n",
    "StockPrices.head()"
   ]
  },
  {
   "cell_type": "markdown",
   "metadata": {},
   "source": [
    "### calculate daily returns of adjusted close\n",
    "### plot the return & the distribution"
   ]
  },
  {
   "cell_type": "code",
   "execution_count": 16,
   "metadata": {},
   "outputs": [
    {
     "data": {
      "image/png": "[encoded data removed]",
      "text/plain": [
       "<matplotlib.figure.Figure at 0x250c1970400>"
      ]
     },
     "metadata": {},
     "output_type": "display_data"
    },
    {
     "data": {
      "image/png": "[encoded data removed]",
      "text/plain": [
       "<matplotlib.figure.Figure at 0x250c1975b38>"
      ]
     },
     "metadata": {},
     "output_type": "display_data"
    }
   ],
   "source": [
    "StockPrices['Returns'] = StockPrices['Adjusted'].pct_change()\n",
    "stk = StockPrices['Returns'].plot()\n",
    "stk.set_ylabel(\"return\")\n",
    "plt.show()\n",
    "percent_return = StockPrices['Returns']*100\n",
    "returns_plot = percent_return.dropna()\n",
    "plt.hist(returns_plot, bins = 75, density = False)\n",
    "plt.xlabel('return')\n",
    "plt.ylabel('frequency')\n",
    "plt.show()"
   ]
  },
  {
   "cell_type": "markdown",
   "metadata": {},
   "source": [
    "### average annualized return"
   ]
  },
  {
   "cell_type": "code",
   "execution_count": 9,
   "metadata": {},
   "outputs": [
    {
     "data": {
      "text/plain": [
       "0.09985839482858783"
      ]
     },
     "execution_count": 9,
     "metadata": {},
     "output_type": "execute_result"
    }
   ],
   "source": [
    "((1 + np.mean(StockPrices[\"Returns\"]))**252)-1"
   ]
  },
  {
   "cell_type": "markdown",
   "metadata": {},
   "source": [
    "### calculate Annualized standard deviation & variance"
   ]
  },
  {
   "cell_type": "code",
   "execution_count": 11,
   "metadata": {},
   "outputs": [],
   "source": [
    "sigma_daily = np.std(StockPrices['Returns'])\n",
    "sigma_annualized = sigma_daily*np.sqrt(252)\n",
    "variance_annualized = sigma_annualized**2"
   ]
  },
  {
   "cell_type": "markdown",
   "metadata": {},
   "source": [
    "### calculate skewness"
   ]
  },
  {
   "cell_type": "code",
   "execution_count": 10,
   "metadata": {},
   "outputs": [
    {
     "data": {
      "text/plain": [
       "0.21935459193067844"
      ]
     },
     "execution_count": 10,
     "metadata": {},
     "output_type": "execute_result"
    }
   ],
   "source": [
    "from scipy.stats import skew\n",
    "skew(returns_plot)"
   ]
  },
  {
   "cell_type": "markdown",
   "metadata": {},
   "source": [
    "### calculate excess kurtosis ie kurtosis - 3"
   ]
  },
  {
   "cell_type": "code",
   "execution_count": 12,
   "metadata": {},
   "outputs": [
    {
     "data": {
      "text/plain": [
       "10.314572618025524"
      ]
     },
     "execution_count": 12,
     "metadata": {},
     "output_type": "execute_result"
    }
   ],
   "source": [
    "from scipy.stats import kurtosis\n",
    "kurtosis(returns_plot)"
   ]
  },
  {
   "cell_type": "markdown",
   "metadata": {},
   "source": [
    "### test normality with Shapiro-Wilk test"
   ]
  },
  {
   "cell_type": "code",
   "execution_count": 13,
   "metadata": {},
   "outputs": [
    {
     "name": "stdout",
     "output_type": "stream",
     "text": [
      "Null hypothesis of normality is rejected\n"
     ]
    }
   ],
   "source": [
    "from scipy.stats import shapiro\n",
    "p_value = shapiro(returns_plot)[1]  # second value is the p-value so called [1]\n",
    "if p_value <= 0.05:\n",
    "    print(\"Null hypothesis of normality is rejected\")\n",
    "else:\n",
    "    print(\"Null hypothesis of normality is accepted\")"
   ]
  }
 ],
 "metadata": {
  "kernelspec": {
   "display_name": "Python 3",
   "language": "python",
   "name": "python3"
  },
  "language_info": {
   "codemirror_mode": {
    "name": "ipython",
    "version": 3
   },
   "file_extension": ".py",
   "mimetype": "text/x-python",
   "name": "python",
   "nbconvert_exporter": "python",
   "pygments_lexer": "ipython3",
   "version": "3.6.4"
  }
 },
 "nbformat": 4,
 "nbformat_minor": 2
}
